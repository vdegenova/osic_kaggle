{
 "cells": [
  {
   "cell_type": "code",
   "execution_count": 1,
   "metadata": {},
   "outputs": [
    {
     "data": {
      "text/html": [
       "<div>\n",
       "<style scoped>\n",
       "    .dataframe tbody tr th:only-of-type {\n",
       "        vertical-align: middle;\n",
       "    }\n",
       "\n",
       "    .dataframe tbody tr th {\n",
       "        vertical-align: top;\n",
       "    }\n",
       "\n",
       "    .dataframe thead th {\n",
       "        text-align: right;\n",
       "    }\n",
       "</style>\n",
       "<table border=\"1\" class=\"dataframe\">\n",
       "  <thead>\n",
       "    <tr style=\"text-align: right;\">\n",
       "      <th></th>\n",
       "      <th>Patient</th>\n",
       "      <th>Weeks</th>\n",
       "      <th>FVC</th>\n",
       "      <th>Percent</th>\n",
       "      <th>Age</th>\n",
       "      <th>Sex</th>\n",
       "      <th>SmokingStatus</th>\n",
       "    </tr>\n",
       "  </thead>\n",
       "  <tbody>\n",
       "    <tr>\n",
       "      <th>0</th>\n",
       "      <td>ID00007637202177411956430</td>\n",
       "      <td>-4</td>\n",
       "      <td>2315</td>\n",
       "      <td>58.253649</td>\n",
       "      <td>79</td>\n",
       "      <td>Male</td>\n",
       "      <td>Ex-smoker</td>\n",
       "    </tr>\n",
       "    <tr>\n",
       "      <th>1</th>\n",
       "      <td>ID00007637202177411956430</td>\n",
       "      <td>5</td>\n",
       "      <td>2214</td>\n",
       "      <td>55.712129</td>\n",
       "      <td>79</td>\n",
       "      <td>Male</td>\n",
       "      <td>Ex-smoker</td>\n",
       "    </tr>\n",
       "    <tr>\n",
       "      <th>2</th>\n",
       "      <td>ID00007637202177411956430</td>\n",
       "      <td>7</td>\n",
       "      <td>2061</td>\n",
       "      <td>51.862104</td>\n",
       "      <td>79</td>\n",
       "      <td>Male</td>\n",
       "      <td>Ex-smoker</td>\n",
       "    </tr>\n",
       "    <tr>\n",
       "      <th>3</th>\n",
       "      <td>ID00007637202177411956430</td>\n",
       "      <td>9</td>\n",
       "      <td>2144</td>\n",
       "      <td>53.950679</td>\n",
       "      <td>79</td>\n",
       "      <td>Male</td>\n",
       "      <td>Ex-smoker</td>\n",
       "    </tr>\n",
       "    <tr>\n",
       "      <th>4</th>\n",
       "      <td>ID00007637202177411956430</td>\n",
       "      <td>11</td>\n",
       "      <td>2069</td>\n",
       "      <td>52.063412</td>\n",
       "      <td>79</td>\n",
       "      <td>Male</td>\n",
       "      <td>Ex-smoker</td>\n",
       "    </tr>\n",
       "  </tbody>\n",
       "</table>\n",
       "</div>"
      ],
      "text/plain": [
       "                     Patient  Weeks   FVC    Percent  Age   Sex SmokingStatus\n",
       "0  ID00007637202177411956430     -4  2315  58.253649   79  Male     Ex-smoker\n",
       "1  ID00007637202177411956430      5  2214  55.712129   79  Male     Ex-smoker\n",
       "2  ID00007637202177411956430      7  2061  51.862104   79  Male     Ex-smoker\n",
       "3  ID00007637202177411956430      9  2144  53.950679   79  Male     Ex-smoker\n",
       "4  ID00007637202177411956430     11  2069  52.063412   79  Male     Ex-smoker"
      ]
     },
     "execution_count": 1,
     "metadata": {},
     "output_type": "execute_result"
    }
   ],
   "source": [
    "import pydicom # read dicom files\n",
    "import os # do directory ops\n",
    "import pandas as pd # data analysis\n",
    "import numpy as np # array ops\n",
    "import math\n",
    "import cv2 # image processin\n",
    "\n",
    "\n",
    "# plotting\n",
    "import matplotlib.pyplot as plt\n",
    "import matplotlib.style\n",
    "import matplotlib as mpl\n",
    "mpl.style.use('classic')\n",
    "\n",
    "data_dir = \"./data/train/\"\n",
    "patients = os.listdir(data_dir)\n",
    "train_df = pd.read_csv(\"./data/train.csv\")\n",
    "\n",
    "train_df.head()"
   ]
  },
  {
   "cell_type": "markdown",
   "metadata": {},
   "source": [
    "begin to iterate through the patients and gather their respective data. We're almost certainly going to need to do some preprocessing of this data"
   ]
  },
  {
   "cell_type": "code",
   "execution_count": 2,
   "metadata": {},
   "outputs": [
    {
     "name": "stdout",
     "output_type": "stream",
     "text": [
      "31 (512, 512)\n",
      "205 (512, 512)\n",
      "253 (512, 512)\n",
      "67 (512, 512)\n",
      "106 (512, 512)\n"
     ]
    }
   ],
   "source": [
    "for patient in patients[:5]:\n",
    "    path = data_dir + patient\n",
    "    slices = [pydicom.read_file(path + '/' + s) for s in os.listdir(path)]\n",
    "    slices.sort(key = lambda x: int(x.ImagePositionPatient[2]))\n",
    "    \n",
    "    patient_history_df = train_df[train_df.Patient == patient].sort_values(by=\"Weeks\")\n",
    "    print(len(slices), slices[0].pixel_array.shape)"
   ]
  },
  {
   "cell_type": "code",
   "execution_count": 3,
   "metadata": {},
   "outputs": [
    {
     "data": {
      "text/plain": [
       "177"
      ]
     },
     "execution_count": 3,
     "metadata": {},
     "output_type": "execute_result"
    }
   ],
   "source": [
    "len(patients)"
   ]
  },
  {
   "cell_type": "code",
   "execution_count": 4,
   "metadata": {},
   "outputs": [
    {
     "data": {
      "image/png": "[encoded data removed]",
      "text/plain": [
       "<Figure size 640x480 with 1 Axes>"
      ]
     },
     "metadata": {},
     "output_type": "display_data"
    }
   ],
   "source": [
    "patient_history_df.plot(kind='line',x='Weeks',y='FVC',color='green')\n",
    "plt.ylabel(\"FVC\")\n",
    "plt.title(\"Patient FVC over time\")\n",
    "plt.show()"
   ]
  },
  {
   "cell_type": "markdown",
   "metadata": {},
   "source": [
    "## Resizing & Visualizing DICOM slices"
   ]
  },
  {
   "cell_type": "code",
   "execution_count": 105,
   "metadata": {
    "scrolled": false
   },
   "outputs": [],
   "source": [
    "IMG_PX_SIZE = 50\n",
    "HM_SLICES = 10\n",
    "\n",
    "def chunks(lst, n):\n",
    "    # source link: https://stackoverflow.com/questions/312443/how-do-you-split-a-list-into-evenly-sized-chunks\n",
    "    \"\"\"Yield successive n-sized chunks from lst.\"\"\"\n",
    "    for i in range(0, len(lst), n):\n",
    "        yield lst[i:i + n]\n",
    "\n",
    "def mean(l):\n",
    "    return sum(l)/len(l)\n",
    "\n",
    "\n",
    "def process_data(patient, patient_history_df, img_px_size=50, hm_slices=10, visualize=False):\n",
    "    path = data_dir + patient\n",
    "    slices = [pydicom.read_file(path + '/' + s) for s in os.listdir(path)]\n",
    "    slices.sort(key = lambda x: int(x.ImagePositionPatient[2]))\n",
    "    \n",
    "    # each scan is not the same depth (number of slices), we we group the slices into chunks of size HM_SLICES\n",
    "    # and average across them to make sure the dimensionality is standardized\n",
    "    \n",
    "    new_slices = []\n",
    "    \n",
    "    slices = [cv2.resize(np.array(each_slice.pixel_array), (IMG_PX_SIZE, IMG_PX_SIZE)) for each_slice in slices]\n",
    "    \n",
    "    chunk_sizes = math.ceil(len(slices) / HM_SLICES)\n",
    "    \n",
    "    for slice_chunk in chunks(slices, chunk_sizes):\n",
    "        slice_chunk = list(map(mean, zip(*slice_chunk)))\n",
    "        new_slices.append(slice_chunk)\n",
    "    \n",
    "    # accounting for rounding errors by averaging the last slice or two if necessary\n",
    "    if len(new_slices) == HM_SLICES - 1:\n",
    "        new_slices.append(new_slices[-1])\n",
    "    \n",
    "    if len(new_slices) == HM_SLICES - 2:\n",
    "        new_slices.append(new_slices[-1])\n",
    "        new_slices.append(new_slices[-1])\n",
    "    \n",
    "    if len(new_slices) == HM_SLICES - 3:\n",
    "        new_slices.append(new_slices[-1])\n",
    "        new_slices.append(new_slices[-1])\n",
    "        new_slices.append(new_slices[-1])\n",
    "    \n",
    "    if len(new_slices) == HM_SLICES - 4:\n",
    "        new_slices.append(new_slices[-1])\n",
    "        new_slices.append(new_slices[-1])\n",
    "        new_slices.append(new_slices[-1])\n",
    "        new_slices.append(new_slices[-1])\n",
    "        \n",
    "    if len(new_slices) == HM_SLICES + 2:\n",
    "        new_val = list(map(mean, zip(*[new_slices[HM_SLICES-1], new_slices[HM_SLICES]])))\n",
    "        del new_slices[HM_SLICES]\n",
    "        new_slices[HM_SLIZES-1] = new_val\n",
    "    \n",
    "    if len(new_slices) == HM_SLICES + 2:\n",
    "        new_val = list(map(mean, zip(*[new_slices[HM_SLICES-1], new_slices[HM_SLICES]])))\n",
    "        del new_slices[HM_SLICES]\n",
    "        new_slices[HM_SLIZES-1] = new_val\n",
    "        \n",
    "        \n",
    "#     print(len(new_slices))\n",
    "    \n",
    "    \n",
    "    if visualize:\n",
    "        fig = plt.figure()\n",
    "        for num, each_slice in enumerate(new_slices):\n",
    "            y = fig.add_subplot(2, 5, num+1)\n",
    "            y.imshow(each_slice, cmap=\"gray\")\n",
    "        plt.show()\n",
    "    \n",
    "    relevant_side_info = patient_history_df[[\"Patient\", \"Weeks\", \"FVC\", \"Percent\"]]\n",
    "    \n",
    "    return np.array(new_slices), relevant_side_info\n",
    "    \n",
    "    "
   ]
  },
  {
   "cell_type": "markdown",
   "metadata": {},
   "source": [
    "## Saving off DICOMS to disk with their associated \"weeks\" and \"FVC\" for training dataset aggregation"
   ]
  },
  {
   "cell_type": "code",
   "execution_count": 106,
   "metadata": {
    "scrolled": false
   },
   "outputs": [
    {
     "name": "stdout",
     "output_type": "stream",
     "text": [
      "Patient:0\n",
      "Patient:10\n",
      "Patient:20\n",
      "Patient:30\n",
      "Patient:40\n",
      "Patient:50\n",
      "Patient:60\n",
      "Patient:70\n",
      "Patient:80\n",
      "Patient:90\n",
      "Patient:100\n",
      "Patient:110\n",
      "Patient:120\n",
      "Patient:130\n",
      "Patient:140\n",
      "Patient:150\n",
      "Patient:160\n",
      "Patient:170\n"
     ]
    }
   ],
   "source": [
    "error_log = []\n",
    "all_the_data = []\n",
    "\n",
    "for num, patient in enumerate(patients):\n",
    "    if num%10 == 0:\n",
    "        print(\"Patient:\" + str(num))\n",
    "    patient_history_df = train_df[train_df.Patient == patient].sort_values(by=\"Weeks\")\n",
    "    \n",
    "    try:\n",
    "        img_data, patient_history = process_data(patient, patient_history_df, img_px_size=IMG_PX_SIZE, hm_slices=HM_SLICES)\n",
    "        \n",
    "        for index, row in patient_history.iterrows():\n",
    "            all_the_data.append([img_data, row['Weeks'], row['FVC']])\n",
    "            \n",
    "    except Exception as e:\n",
    "        error_log.append((patient, e))\n",
    "        continue\n",
    "\n",
    "# saving off the image data, associated weeks, and fvc to predict\n",
    "# all images saved off as 50x50x10 3d volumes\n",
    "np.save(\"allthedata-{}-{}-{}\".format(IMG_PX_SIZE, IMG_PX_SIZE, HM_SLICES), all_the_data)"
   ]
  },
  {
   "cell_type": "markdown",
   "metadata": {},
   "source": [
    "I'm thinking we can use the baseline CT scan as the image in a 3D-CNN as part of a wide and deep network. We have side information (Age, Smoker Status, Gender) that we can feed into the wide part, and it will be conditioned on the \"Weeks since baseline scan\" as a final wide variable in the network.\n",
    "\n",
    "The way we'd train the model is on tuples like (CT Scan, Weeks) --> FVC. Meaning for one patient, if they have 7 FVC measurements at different times, we'll have 7 training rows, 1 for each measurement, and the target is the FVC at that time.\n",
    "- we may want to use FVC Percent instead of FVC, so we'll see\n",
    "- this approach makes it questionable if we'll want to use measurements from before the scan (negative weeks)\n",
    "- looking like we're going to want to use a significant amount of pre-processing here (besides simple resizing & translations to line shit up, we'll need to threshold and potentially segment the images further if we want to use full res images in some way)\n",
    "\n",
    "\n",
    "Since the number of slices aren't the same per scan or per patient, we'll want to do some sort of \"chunking\" like I've done here to make sure we have the same depth of \"slices\" for each baseline scan.\n"
   ]
  },
  {
   "cell_type": "markdown",
   "metadata": {},
   "source": [
    "## Building a Dumb CNN to take in an image and predict FVC\n",
    "\n",
    "This doesn't include Weeks as a feature so we're feeding in the same 3D image with different FVC targets during training, so not expecting this to learn too much tbh. Just getting some tf into the repo :) "
   ]
  },
  {
   "cell_type": "code",
   "execution_count": 107,
   "metadata": {},
   "outputs": [],
   "source": [
    "from tensorflow.keras.layers import Input\n",
    "from tensorflow.keras.layers import Conv3D\n",
    "from tensorflow.keras.layers import Activation\n",
    "from tensorflow.keras.layers import BatchNormalization\n",
    "from tensorflow.keras.layers import MaxPooling3D\n",
    "from tensorflow.keras.layers import Dropout\n",
    "from tensorflow.keras.layers import Dense\n",
    "from tensorflow.keras.layers import Flatten\n",
    "from tensorflow.keras.models import Model\n",
    "from tensorflow.keras.optimizers import Adam\n",
    "\n",
    "\n",
    "IMG_PX_SIZE = 50\n",
    "SLICE_COUNT = 10\n",
    "\n",
    "def create_cnn(width=IMG_PX_SIZE, height=IMG_PX_SIZE, depth=SLICE_COUNT, filters=(16, 32, 64)):\n",
    "    # initialize the input shape and channel dimension, assuming\n",
    "    # TensorFlow/channels-last ordering\n",
    "    inputShape = (height, width, depth, 1)\n",
    "    chanDim = -1\n",
    "\n",
    "    # define the model input\n",
    "    inputs = Input(shape=inputShape)\n",
    "    \n",
    "    for (i, f) in enumerate(filters):\n",
    "        # if this is the first Conv layer, then set the input appropriately\n",
    "        if i == 0:\n",
    "            x = inputs\n",
    "        \n",
    "        # Conv -> ReLU -> BN -> Pool\n",
    "        x = Conv3D(f, (3, 3, 3), padding=\"same\")(x)\n",
    "        x = Activation(\"relu\")(x)\n",
    "        x = BatchNormalization(axis=chanDim)(x)\n",
    "        x = MaxPooling3D(pool_size=(2, 2, 2))(x)\n",
    "        \n",
    "    # flatten the volume, then FC => RELU => BN => DROPOUT\n",
    "    x = Flatten()(x)\n",
    "    x = Dense(16)(x)\n",
    "    x = Activation(\"relu\")(x)\n",
    "    x = BatchNormalization(axis=chanDim)(x)\n",
    "    x = Dropout(0.5)(x)\n",
    "    \n",
    "    # apply another FC layer\n",
    "    x = Dense(4)(x)\n",
    "    x = Activation(\"relu\")(x)\n",
    "    \n",
    "    # regression node\n",
    "    x = Dense(1, activation=\"linear\")(x)\n",
    "    \n",
    "    # construct the CNN\n",
    "    model = Model(inputs, x)\n",
    "\n",
    "    # return the CNN\n",
    "    return model\n",
    "\n",
    "model = create_cnn()\n",
    "opt = Adam(lr=1e-3, decay=1e-3 / 200)\n",
    "model.compile(loss=\"mean_absolute_percentage_error\", optimizer=opt)"
   ]
  },
  {
   "cell_type": "code",
   "execution_count": 114,
   "metadata": {},
   "outputs": [],
   "source": [
    "all_data = np.load('allthedata-50-50-10.npy', allow_pickle=True)\n",
    "train_data = all_data[:-100]\n",
    "validation_data = all_data[-100:]\n",
    "\n",
    "train_x = np.stack(np.array(train_data[:, 0]))\n",
    "train_x = np.moveaxis(train_x, 1, -1)\n",
    "train_y = np.asarray(train_data[:, 2]).astype(np.float32)\n",
    "\n",
    "val_x = np.stack(np.asarray(validation_data[:, 0]))\n",
    "val_x = np.moveaxis(val_x, 1, -1)\n",
    "val_y = np.asarray(validation_data[:, 2]).astype(np.float32)"
   ]
  },
  {
   "cell_type": "code",
   "execution_count": 117,
   "metadata": {},
   "outputs": [
    {
     "data": {
      "text/plain": [
       "(1408, 50, 50, 10)"
      ]
     },
     "execution_count": 117,
     "metadata": {},
     "output_type": "execute_result"
    }
   ],
   "source": [
    "train_x.shape"
   ]
  },
  {
   "cell_type": "code",
   "execution_count": 119,
   "metadata": {
    "scrolled": false
   },
   "outputs": [
    {
     "name": "stdout",
     "output_type": "stream",
     "text": [
      "[INFO] training model...\n",
      "Epoch 1/25\n",
      "176/176 [==============================] - 69s 391ms/step - loss: 96.6311 - val_loss: 96.3805\n",
      "Epoch 2/25\n",
      "176/176 [==============================] - 68s 384ms/step - loss: 94.4585 - val_loss: 93.4070\n",
      "Epoch 3/25\n",
      "176/176 [==============================] - 68s 385ms/step - loss: 91.2099 - val_loss: 88.5762\n",
      "Epoch 4/25\n",
      "176/176 [==============================] - 67s 383ms/step - loss: 86.2802 - val_loss: 87.7991\n",
      "Epoch 5/25\n",
      "176/176 [==============================] - 68s 386ms/step - loss: 79.6559 - val_loss: 81.8186\n",
      "Epoch 6/25\n",
      "176/176 [==============================] - 68s 385ms/step - loss: 71.4035 - val_loss: 71.6468\n",
      "Epoch 7/25\n",
      "176/176 [==============================] - 68s 384ms/step - loss: 63.5164 - val_loss: 58.3141\n",
      "Epoch 8/25\n",
      "176/176 [==============================] - 68s 384ms/step - loss: 57.2926 - val_loss: 60.5917\n",
      "Epoch 9/25\n",
      "176/176 [==============================] - 68s 386ms/step - loss: 51.6203 - val_loss: 51.5672\n",
      "Epoch 10/25\n",
      "176/176 [==============================] - 68s 386ms/step - loss: 47.5386 - val_loss: 46.7893\n",
      "Epoch 11/25\n",
      "176/176 [==============================] - 68s 385ms/step - loss: 43.3493 - val_loss: 39.6886\n",
      "Epoch 12/25\n",
      "176/176 [==============================] - 67s 383ms/step - loss: 41.3108 - val_loss: 44.3467\n",
      "Epoch 13/25\n",
      "176/176 [==============================] - 68s 386ms/step - loss: 38.8395 - val_loss: 49.6612\n",
      "Epoch 14/25\n",
      "176/176 [==============================] - 68s 388ms/step - loss: 39.1974 - val_loss: 46.9094\n",
      "Epoch 15/25\n",
      "176/176 [==============================] - 68s 388ms/step - loss: 37.9097 - val_loss: 33.6260\n",
      "Epoch 16/25\n",
      "176/176 [==============================] - 68s 387ms/step - loss: 35.7792 - val_loss: 34.4423\n",
      "Epoch 17/25\n",
      "176/176 [==============================] - 848s 5s/step - loss: 34.3543 - val_loss: 35.1293\n",
      "Epoch 18/25\n",
      "176/176 [==============================] - 69s 390ms/step - loss: 32.8016 - val_loss: 35.6054\n",
      "Epoch 19/25\n",
      "176/176 [==============================] - 70s 396ms/step - loss: 32.2568 - val_loss: 54.8635\n",
      "Epoch 20/25\n",
      "176/176 [==============================] - 69s 389ms/step - loss: 32.6251 - val_loss: 23.6715\n",
      "Epoch 21/25\n",
      "176/176 [==============================] - 69s 391ms/step - loss: 32.5697 - val_loss: 27.3025\n",
      "Epoch 22/25\n",
      "176/176 [==============================] - 70s 397ms/step - loss: 30.6315 - val_loss: 31.5124\n",
      "Epoch 23/25\n",
      "176/176 [==============================] - 69s 392ms/step - loss: 30.3992 - val_loss: 38.2322\n",
      "Epoch 24/25\n",
      "176/176 [==============================] - 69s 393ms/step - loss: 31.0802 - val_loss: 41.8072\n",
      "Epoch 25/25\n",
      "176/176 [==============================] - 69s 393ms/step - loss: 29.5329 - val_loss: 32.4957\n"
     ]
    },
    {
     "data": {
      "text/plain": [
       "<tensorflow.python.keras.callbacks.History at 0x168da83a0>"
      ]
     },
     "execution_count": 119,
     "metadata": {},
     "output_type": "execute_result"
    }
   ],
   "source": [
    "print(\"[INFO] training model...\")\n",
    "model.fit(x=train_x, y=train_y, \n",
    "    validation_data=(val_x, val_y),\n",
    "    epochs=25, batch_size=8)"
   ]
  },
  {
   "cell_type": "code",
   "execution_count": 142,
   "metadata": {},
   "outputs": [
    {
     "data": {
      "text/plain": [
       "Text(0.5, 1.0, 'LOL seems about right')"
      ]
     },
     "execution_count": 142,
     "metadata": {},
     "output_type": "execute_result"
    },
    {
     "data": {
      "image/png": "[encoded data removed]",
      "text/plain": [
       "<Figure size 640x480 with 1 Axes>"
      ]
     },
     "metadata": {},
     "output_type": "display_data"
    }
   ],
   "source": [
    "import seaborn as sns\n",
    "\n",
    "preds = model.predict(val_x)\n",
    "df = pd.DataFrame({'predicted': preds.flatten(), 'measured': val_y}).sort_values(by=\"measured\")\n",
    "sns.lineplot(x=\"measured\", y=\"predicted\", data=df, color='c')\n",
    "slope1_x = range(1000, 4500, 1)\n",
    "slope1_y = range(1000, 4500, 1)\n",
    "plt.plot(test_x, test_y, '--k')\n",
    "plt.title('LOL seems about right')"
   ]
  },
  {
   "cell_type": "code",
   "execution_count": null,
   "metadata": {},
   "outputs": [],
   "source": []
  }
 ],
 "metadata": {
  "kernelspec": {
   "display_name": "osic_kaggle_38",
   "language": "python",
   "name": "osic_kaggle_38"
  },
  "language_info": {
   "codemirror_mode": {
    "name": "ipython",
    "version": 3
   },
   "file_extension": ".py",
   "mimetype": "text/x-python",
   "name": "python",
   "nbconvert_exporter": "python",
   "pygments_lexer": "ipython3",
   "version": "3.8.4"
  }
 },
 "nbformat": 4,
 "nbformat_minor": 2
}
